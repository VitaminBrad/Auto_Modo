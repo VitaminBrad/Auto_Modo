{
 "cells": [
  {
   "cell_type": "markdown",
   "metadata": {},
   "source": [
    "# Model-Ready Reformatting of Experimental Data  \n",
    "\n",
    "1. Request file from a URL (presumably published expiermental data)\n",
    "and do any of the following if necessary:\n",
    "  1. Extract them from a zipped file, \n",
    "  2. Convert them from a excel formats (.xls, .xlsx) - needs 10 minute clean-up\n",
    "2. Upload the file to OpenRefine via its API\n",
    "3. Perform clean-up operations in Open Refine\n",
    "4. Download the data\n",
    "\n",
    "Future Directions:\n",
    "\n",
    "5. Run the data on the model\n",
    "6. Return model output and whether it agrees/disagrees with experiment (implicitly recommended a change in model or experiment)\n",
    "7. Then either:\n",
    "    1. Recommend necessary conditions for similar results or for a particular (user-defined) output to occur\n",
    "    2. Allow for the observation of different model outputs with theoretically different inputs\n"
   ]
  },
  {
   "cell_type": "code",
   "execution_count": 89,
   "metadata": {},
   "outputs": [],
   "source": [
    "import requests\n",
    "import sys\n",
    "import json # Do https://developer.rhino3d.com/guides/rhinopython/python-xml-json/\n",
    "from IPython.display import HTML\n",
    "import zipfile\n",
    "import urllib.request\n",
    "import os\n",
    "import pandas as pd\n",
    "import time"
   ]
  },
  {
   "cell_type": "code",
   "execution_count": 90,
   "metadata": {},
   "outputs": [],
   "source": [
    "#Be sure to use the link (\"copy link address\") as the raw! Not \"download\"\n",
    "URL = 'https://doi.org/10.1371/journal.pcbi.1006680.s004'\n",
    "if not (sys.argv[0]): URL = sys.argv[0]\n",
    "    \n",
    "items = URL.split(\"/\")\n",
    "file_name_parts = items[-1].split(\"?\")\n",
    "file_name = file_name_parts[0] + \".zip\" #req: control statment to check if zip or not\n"
   ]
  },
  {
   "cell_type": "code",
   "execution_count": 107,
   "metadata": {},
   "outputs": [],
   "source": [
    "#with urllib\n",
    "urllib.request.urlretrieve(URL, file_name)\n",
    "cwd = os.getcwd()\n",
    "\n",
    "path_to_zip_file = cwd + '\\\\' + file_name \n",
    "#unzip zipped files\n",
    "zip_ref = zipfile.ZipFile(path_to_zip_file, 'r')\n",
    "#Create folder to download into based on name of download\n",
    "if not(os.path.exists(zip_extract_dest)): os.mkdir(file_name+\"_extract\")\n",
    "zip_extract_dest = cwd + '\\\\' +file_name + \"_extract\"\n",
    "zip_ref.extractall(zip_extract_dest) #directory to extract to\n",
    "zip_ref.close()"
   ]
  },
  {
   "cell_type": "code",
   "execution_count": 117,
   "metadata": {},
   "outputs": [
    {
     "name": "stdout",
     "output_type": "stream",
     "text": [
      "C:\\Users\\Owner\\journal.pcbi.1006680.s004.zip_extract\\LopesData_40_Adequate_Deficient_Rich.tsv\n"
     ]
    }
   ],
   "source": [
    "#Create Project\n",
    "file_ext,i = \"\",0\n",
    "API_URL = \"http://127.0.0.1:3333/command/core/create-project-from-upload\"\n",
    "\n",
    "#Jimmy-rigged method to determine file extension:\n",
    "file_name_back = file_name[::-1]\n",
    "while True:\n",
    "    file_ext += file_name_back[i]\n",
    "    if file_name_back[i] == '.': break \n",
    "    i += 1\n",
    "file_ext = file_ext[::-1] #flip file extension to read in correct direction\n",
    "\n",
    "\n",
    "#iterate through extracted zip folder to experimental data\n",
    "for currentFile in os.listdir(zip_extract_dest):\n",
    "    total_file_path = zip_extract_dest+'\\\\'+currentFile\n",
    "    if currentFile.endswith(\".txt\"): \n",
    "        df = pd.read_csv(total_file_path, sep='\\t', lineterminator='\\n')\n",
    "        csv = df.to_csv(sep='\\t', float_format='%.3f')\n",
    "        tsv = csv.replace(',','\\t')\n",
    "        upload_file_name = total_file_path[0:-len(file_ext)] + '.tsv'\n",
    "        continue\n",
    "    elif currentFile.endswith(\".xls\") or currentFile.endswith(\".xlsx\"):\n",
    "        df = pd.read_excel(os.cwd)\n",
    "        csv = df.to_csv()\n",
    "        tsv = csv.replace(',','\\t')\n",
    "        continue\n",
    "print(upload_file_name)\n",
    "with open(upload_file_name, 'w') as wf:\n",
    "    wf.write(\"\" + tsv)\n",
    "#tsv, put it in below \n",
    "data = {'project-file':(upload_file_name, open(upload_file_name, 'r'), 'application/vnd.ms-excel', {'Expires': '0'}), \n",
    "       }\n",
    "\n",
    "# sending post request and saving response as response object \n",
    "r = requests.post(url = API_URL, files = data)"
   ]
  },
  {
   "cell_type": "code",
   "execution_count": null,
   "metadata": {},
   "outputs": [],
   "source": [
    "#Get Project\n",
    "\n",
    "getURL = \"http://127.0.0.1:3333/command/core/get-models\"\n",
    "getData = {'project': '2432443441126'}\n",
    "g = requests.get(url = getURL, params = getData)\n",
    "json_obj = g.json()\n",
    "-    json.dump(json_obj, outfile)\n",
    "g.text\n",
    "    +++"
   ]
  },
  {
   "cell_type": "code",
   "execution_count": null,
   "metadata": {},
   "outputs": [],
   "source": [
    "#Apply Operations (Remove Column 'time')\n",
    "project_id_remove = '1659010586174'\n",
    "ops_url = \"http://127.0.0.1:3333/command/core/apply-operations?\" \n",
    "json_ops = [\n",
    "  {\n",
    "    \"op\": \"core/column-removal\",\n",
    "    \"description\": \"Remove column time\",\n",
    "    \"columnName\": \"time\"\n",
    "  }\n",
    "]\n",
    "\n",
    "opsData = {'project': project_id_remove,\n",
    "          'operations': json.dumps(json_ops)}\n",
    "\n",
    "op = requests.post(url = ops_url,  data = opsData)\n",
    "op.status_code\n",
    "HTML(op.text)"
   ]
  },
  {
   "cell_type": "code",
   "execution_count": null,
   "metadata": {},
   "outputs": [],
   "source": [
    "#Delete Project\n",
    "#Apply Operations - Remove\n",
    "project_id_delete = '2432443441126'\n",
    "ops_url = \"http://127.0.0.1:3333/command/core/delete-project\" \n",
    "\n",
    "op = requests.post(url = ops_url, data = opsData)\n",
    "op.status_code\n",
    "HTML()\n",
    "op.text"
   ]
  }
 ],
 "metadata": {
  "kernelspec": {
   "display_name": "Python 3",
   "language": "python",
   "name": "python3"
  },
  "language_info": {
   "codemirror_mode": {
    "name": "ipython",
    "version": 3
   },
   "file_extension": ".py",
   "mimetype": "text/x-python",
   "name": "python",
   "nbconvert_exporter": "python",
   "pygments_lexer": "ipython3",
   "version": "3.7.3"
  }
 },
 "nbformat": 4,
 "nbformat_minor": 2
}
